{
 "cells": [
  {
   "cell_type": "code",
   "execution_count": 195,
   "metadata": {},
   "outputs": [],
   "source": [
    "import pandas as pd\n",
    "import matplotlib.pyplot as plt"
   ]
  },
  {
   "cell_type": "code",
   "execution_count": 196,
   "metadata": {},
   "outputs": [
    {
     "name": "stdout",
     "output_type": "stream",
     "text": [
      "(282, 10)\n"
     ]
    }
   ],
   "source": [
    "data = pd.read_excel('Registro_Excel.xlsx')\n",
    "data.head()\n",
    "print(data.shape)"
   ]
  },
  {
   "cell_type": "code",
   "execution_count": 197,
   "metadata": {},
   "outputs": [],
   "source": [
    "data = data.drop(\"Unnamed: 0\", axis=1)\n",
    "data['Ganancia'] = data['Ganancia'].astype(str)"
   ]
  },
  {
   "cell_type": "code",
   "execution_count": 198,
   "metadata": {},
   "outputs": [
    {
     "name": "stdout",
     "output_type": "stream",
     "text": [
      "(68, 9)\n",
      "Usuario                object\n",
      "Fecha          datetime64[ns]\n",
      "Bet365(COP)           float64\n",
      "Wplay                 float64\n",
      "Codere                float64\n",
      "Rushbet               float64\n",
      "Retiros               float64\n",
      "Total                 float64\n",
      "Ganancia              float64\n",
      "dtype: object\n"
     ]
    },
    {
     "name": "stderr",
     "output_type": "stream",
     "text": [
      "C:\\Users\\andres\\Anaconda3\\lib\\site-packages\\ipykernel_launcher.py:2: SettingWithCopyWarning: \n",
      "A value is trying to be set on a copy of a slice from a DataFrame.\n",
      "Try using .loc[row_indexer,col_indexer] = value instead\n",
      "\n",
      "See the caveats in the documentation: http://pandas.pydata.org/pandas-docs/stable/indexing.html#indexing-view-versus-copy\n",
      "  \n"
     ]
    },
    {
     "data": {
      "text/html": [
       "<div>\n",
       "<style scoped>\n",
       "    .dataframe tbody tr th:only-of-type {\n",
       "        vertical-align: middle;\n",
       "    }\n",
       "\n",
       "    .dataframe tbody tr th {\n",
       "        vertical-align: top;\n",
       "    }\n",
       "\n",
       "    .dataframe thead th {\n",
       "        text-align: right;\n",
       "    }\n",
       "</style>\n",
       "<table border=\"1\" class=\"dataframe\">\n",
       "  <thead>\n",
       "    <tr style=\"text-align: right;\">\n",
       "      <th></th>\n",
       "      <th>Usuario</th>\n",
       "      <th>Fecha</th>\n",
       "      <th>Bet365(COP)</th>\n",
       "      <th>Wplay</th>\n",
       "      <th>Codere</th>\n",
       "      <th>Rushbet</th>\n",
       "      <th>Retiros</th>\n",
       "      <th>Total</th>\n",
       "      <th>Ganancia</th>\n",
       "    </tr>\n",
       "  </thead>\n",
       "  <tbody>\n",
       "    <tr>\n",
       "      <th>3</th>\n",
       "      <td>Esteban SM</td>\n",
       "      <td>2019-12-22 12:00:00</td>\n",
       "      <td>479402.0</td>\n",
       "      <td>711500.0</td>\n",
       "      <td>0.0</td>\n",
       "      <td>0.0</td>\n",
       "      <td>0.0</td>\n",
       "      <td>1190902.0</td>\n",
       "      <td>246359.0</td>\n",
       "    </tr>\n",
       "    <tr>\n",
       "      <th>8</th>\n",
       "      <td>Yusbay MD</td>\n",
       "      <td>2019-12-22 12:00:00</td>\n",
       "      <td>0.0</td>\n",
       "      <td>1108000.0</td>\n",
       "      <td>0.0</td>\n",
       "      <td>0.0</td>\n",
       "      <td>0.0</td>\n",
       "      <td>1108000.0</td>\n",
       "      <td>64377.0</td>\n",
       "    </tr>\n",
       "    <tr>\n",
       "      <th>9</th>\n",
       "      <td>Esteban SM</td>\n",
       "      <td>2019-12-22 12:00:00</td>\n",
       "      <td>0.0</td>\n",
       "      <td>739000.0</td>\n",
       "      <td>0.0</td>\n",
       "      <td>0.0</td>\n",
       "      <td>0.0</td>\n",
       "      <td>739000.0</td>\n",
       "      <td>62649.0</td>\n",
       "    </tr>\n",
       "    <tr>\n",
       "      <th>14</th>\n",
       "      <td>Yusbay MD</td>\n",
       "      <td>2019-12-21 12:00:00</td>\n",
       "      <td>360738.0</td>\n",
       "      <td>863000.0</td>\n",
       "      <td>0.0</td>\n",
       "      <td>0.0</td>\n",
       "      <td>0.0</td>\n",
       "      <td>1223738.0</td>\n",
       "      <td>488240.0</td>\n",
       "    </tr>\n",
       "    <tr>\n",
       "      <th>20</th>\n",
       "      <td>Yusbay MD</td>\n",
       "      <td>2019-12-19 12:00:00</td>\n",
       "      <td>453603.0</td>\n",
       "      <td>176938.0</td>\n",
       "      <td>0.0</td>\n",
       "      <td>0.0</td>\n",
       "      <td>0.0</td>\n",
       "      <td>630541.0</td>\n",
       "      <td>128056.0</td>\n",
       "    </tr>\n",
       "  </tbody>\n",
       "</table>\n",
       "</div>"
      ],
      "text/plain": [
       "       Usuario               Fecha  Bet365(COP)      Wplay  Codere  Rushbet  \\\n",
       "3   Esteban SM 2019-12-22 12:00:00     479402.0   711500.0     0.0      0.0   \n",
       "8    Yusbay MD 2019-12-22 12:00:00          0.0  1108000.0     0.0      0.0   \n",
       "9   Esteban SM 2019-12-22 12:00:00          0.0   739000.0     0.0      0.0   \n",
       "14   Yusbay MD 2019-12-21 12:00:00     360738.0   863000.0     0.0      0.0   \n",
       "20   Yusbay MD 2019-12-19 12:00:00     453603.0   176938.0     0.0      0.0   \n",
       "\n",
       "    Retiros      Total  Ganancia  \n",
       "3       0.0  1190902.0  246359.0  \n",
       "8       0.0  1108000.0   64377.0  \n",
       "9       0.0   739000.0   62649.0  \n",
       "14      0.0  1223738.0  488240.0  \n",
       "20      0.0   630541.0  128056.0  "
      ]
     },
     "execution_count": 198,
     "metadata": {},
     "output_type": "execute_result"
    }
   ],
   "source": [
    "ganancia = data[data['Ganancia'].str.isnumeric()]\n",
    "ganancia['Ganancia'] = pd.to_numeric(ganancia['Ganancia']).astype('float')\n",
    "ganancia = ganancia[ ganancia['Ganancia'] != 0 ]\n",
    "ganancia['Fecha'] = pd.to_datetime(ganancia['Fecha'].astype(str), format='%Y-%m-%d %H:%M:%S')\n",
    "print(ganancia.shape)\n",
    "print(ganancia.dtypes)\n",
    "ganancia.head()"
   ]
  },
  {
   "cell_type": "code",
   "execution_count": 199,
   "metadata": {},
   "outputs": [],
   "source": [
    "Yusbay = ganancia[ganancia['Usuario']=='Yusbay MD']\n",
    "Esteban = ganancia[ganancia['Usuario']=='Esteban SM']\n",
    "Andres = ganancia[ganancia['Usuario']=='Andres JG']"
   ]
  },
  {
   "cell_type": "code",
   "execution_count": 216,
   "metadata": {},
   "outputs": [
    {
     "data": {
      "text/plain": [
       "8     2019-12-22 12:00:00\n",
       "14    2019-12-21 12:00:00\n",
       "20    2019-12-19 12:00:00\n",
       "26    2019-12-18 12:00:00\n",
       "32    2019-12-17 20:00:00\n",
       "38    2019-12-16 20:00:00\n",
       "45    2019-12-13 10:00:00\n",
       "50    2019-12-11 13:00:00\n",
       "57    2019-12-10 10:00:00\n",
       "63    2019-12-07 10:00:00\n",
       "76    2019-12-06 09:00:00\n",
       "85    2019-12-05 14:00:00\n",
       "91    2019-12-04 14:00:00\n",
       "96    2019-12-03 14:00:00\n",
       "103   2019-11-30 14:00:00\n",
       "110   2019-11-29 17:00:00\n",
       "124   2019-11-26 15:00:00\n",
       "130   2019-11-23 08:15:00\n",
       "136   2019-11-22 08:15:00\n",
       "142   2019-11-21 16:27:00\n",
       "160   2019-11-16 09:00:00\n",
       "172   2019-11-14 09:00:00\n",
       "Name: Fecha, dtype: datetime64[ns]"
      ]
     },
     "execution_count": 216,
     "metadata": {},
     "output_type": "execute_result"
    }
   ],
   "source": [
    "Yusbay['Fecha']"
   ]
  },
  {
   "cell_type": "code",
   "execution_count": 226,
   "metadata": {},
   "outputs": [
    {
     "data": {
      "image/png": "[encoded data removed]",
      "text/plain": [
       "<Figure size 432x288 with 1 Axes>"
      ]
     },
     "metadata": {
      "needs_background": "light"
     },
     "output_type": "display_data"
    }
   ],
   "source": [
    "fig, ax = plt.subplots()\n",
    "plt.xticks(Andres['Fecha'], rotation=90)\n",
    "# plt.grid()\n",
    "\n",
    "ax.plot_date(Andres['Fecha'], Andres['Ganancia'], marker='', linestyle='-')\n",
    "#plt.plot(Andres['Fecha'], Yusbay['Ganancia'])\n",
    "#fig.autofmt_xdate()\n",
    "plt.show()"
   ]
  },
  {
   "cell_type": "code",
   "execution_count": null,
   "metadata": {},
   "outputs": [],
   "source": []
  },
  {
   "cell_type": "code",
   "execution_count": null,
   "metadata": {},
   "outputs": [],
   "source": []
  },
  {
   "cell_type": "code",
   "execution_count": null,
   "metadata": {},
   "outputs": [],
   "source": []
  }
 ],
 "metadata": {
  "kernelspec": {
   "display_name": "Python 3",
   "language": "python",
   "name": "python3"
  },
  "language_info": {
   "codemirror_mode": {
    "name": "ipython",
    "version": 3
   },
   "file_extension": ".py",
   "mimetype": "text/x-python",
   "name": "python",
   "nbconvert_exporter": "python",
   "pygments_lexer": "ipython3",
   "version": "3.7.3"
  }
 },
 "nbformat": 4,
 "nbformat_minor": 2
}
